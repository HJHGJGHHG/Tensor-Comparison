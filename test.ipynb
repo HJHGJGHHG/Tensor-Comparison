{
 "cells": [
  {
   "cell_type": "code",
   "execution_count": 1,
   "metadata": {
    "collapsed": true
   },
   "outputs": [],
   "source": [
    "from functools import reduce\n",
    "\n",
    "import torch\n",
    "import paddle\n",
    "import numpy as np\n",
    "#a = torch.Tensor([-4, 3])\n",
    "#b = torch.Tensor([1, 3])\n",
    "a = torch.Tensor(np.random.rand(1000, 1000))\n",
    "b = torch.Tensor(np.random.rand(1000, 1000))\n",
    "a = a.detach().cpu().numpy()\n",
    "b = b.detach().cpu().numpy()"
   ]
  },
  {
   "cell_type": "code",
   "execution_count": 2,
   "outputs": [
    {
     "name": "stdout",
     "output_type": "stream",
     "text": [
      "0.0018236637115478516\n",
      "577.03143\n"
     ]
    }
   ],
   "source": [
    "import time\n",
    "start = time.time()\n",
    "tmp = np.sqrt(np.sum(np.abs(a) ** 2))\n",
    "print(time.time()-start)\n",
    "print(tmp)"
   ],
   "metadata": {
    "collapsed": false,
    "pycharm": {
     "name": "#%%\n"
    }
   }
  },
  {
   "cell_type": "code",
   "execution_count": 3,
   "outputs": [
    {
     "name": "stdout",
     "output_type": "stream",
     "text": [
      "0.005494594573974609\n",
      "577.03156\n"
     ]
    }
   ],
   "source": [
    "start = time.time()\n",
    "tmp = np.sqrt(np.trace(np.matmul(a,a.T)))\n",
    "print(time.time()-start)\n",
    "print(tmp)"
   ],
   "metadata": {
    "collapsed": false,
    "pycharm": {
     "name": "#%%\n"
    }
   }
  }
 ],
 "metadata": {
  "kernelspec": {
   "display_name": "Python 3",
   "language": "python",
   "name": "python3"
  },
  "language_info": {
   "codemirror_mode": {
    "name": "ipython",
    "version": 2
   },
   "file_extension": ".py",
   "mimetype": "text/x-python",
   "name": "python",
   "nbconvert_exporter": "python",
   "pygments_lexer": "ipython2",
   "version": "2.7.6"
  }
 },
 "nbformat": 4,
 "nbformat_minor": 0
}